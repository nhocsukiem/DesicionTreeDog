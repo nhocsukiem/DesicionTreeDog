{
  "cells": [
    {
      "cell_type": "markdown",
      "metadata": {
        "id": "view-in-github",
        "colab_type": "text"
      },
      "source": [
        "<a href=\"https://colab.research.google.com/github/nhocsukiem/DesicionTreeDog/blob/main/B%E1%BA%A3n_sao_c%E1%BB%A7a_DemoFinal.ipynb\" target=\"_parent\"><img src=\"https://colab.research.google.com/assets/colab-badge.svg\" alt=\"Open In Colab\"/></a>"
      ]
    },
    {
      "cell_type": "markdown",
      "metadata": {
        "id": "hplX2MMEQetd"
      },
      "source": [
        "# Cài thư viện cần"
      ]
    },
    {
      "cell_type": "code",
      "execution_count": null,
      "metadata": {
        "id": "URENLxJ0QeP8"
      },
      "outputs": [],
      "source": [
        "from tensorflow.keras.preprocessing.image import ImageDataGenerator\n",
        "from tensorflow.keras.preprocessing import image\n",
        "from tensorflow.keras.optimizers import RMSprop\n",
        "from sklearn.tree import DecisionTreeClassifier\n",
        "from tensorflow import keras\n",
        "import tensorflow as tf\n",
        "import matplotlib.pyplot as plt\n",
        "import cv2\n",
        "from imutils import paths\n",
        "import os \n",
        "import numpy as np\n",
        "from sklearn.model_selection import train_test_split\n",
        "import random \n",
        "import pickle"
      ]
    },
    {
      "cell_type": "code",
      "execution_count": null,
      "metadata": {
        "id": "uTWU4azrWdfw"
      },
      "outputs": [],
      "source": [
        "import warnings\n",
        "warnings.filterwarnings(\"ignore\", category=DeprecationWarning) \n",
        "warnings.filterwarnings(\"ignore\", category=FutureWarning) \n",
        "warnings.filterwarnings(\"ignore\", category=UserWarning) "
      ]
    },
    {
      "cell_type": "code",
      "execution_count": null,
      "metadata": {
        "id": "SkLbXms5gRcE"
      },
      "outputs": [],
      "source": [
        "image_paths = list(paths.list_images(\"/content/drive/MyDrive/archive\"))\n",
        "raw_images = []\n",
        "labels = []"
      ]
    },
    {
      "cell_type": "code",
      "source": [
        "\n",
        "def createImageFeatures(image, size=(224, 224)):\n",
        "    # resize the image\n",
        "    image = cv2.resize(image, size)\n",
        "    # flatten the image\n",
        "    pixel_list = image.flatten()\n",
        "    return pixel_list"
      ],
      "metadata": {
        "id": "RRpUMZtOl7Sq"
      },
      "execution_count": null,
      "outputs": []
    },
    {
      "cell_type": "code",
      "source": [
        "image_paths"
      ],
      "metadata": {
        "colab": {
          "base_uri": "https://localhost:8080/"
        },
        "id": "980LlYwCl-qM",
        "outputId": "95c6c4b7-c24f-4ad0-ad7c-2c8e73684ca4"
      },
      "execution_count": null,
      "outputs": [
        {
          "output_type": "execute_result",
          "data": {
            "text/plain": [
              "['/content/drive/MyDrive/archive/BichonFrise/BichonFrise .13.jpg',\n",
              " '/content/drive/MyDrive/archive/BichonFrise/BichonFrise .47.jpg',\n",
              " '/content/drive/MyDrive/archive/BichonFrise/BichonFrise .41.jpg',\n",
              " '/content/drive/MyDrive/archive/BichonFrise/BichonFrise .19.jpg',\n",
              " '/content/drive/MyDrive/archive/BichonFrise/BichonFrise .40.jpg',\n",
              " '/content/drive/MyDrive/archive/BichonFrise/BichonFrise .37.jpg',\n",
              " '/content/drive/MyDrive/archive/BichonFrise/BichonFrise .45.jpg',\n",
              " '/content/drive/MyDrive/archive/BichonFrise/BichonFrise .11.jpg',\n",
              " '/content/drive/MyDrive/archive/BichonFrise/BichonFrise .31.jpg',\n",
              " '/content/drive/MyDrive/archive/BichonFrise/BichonFrise .14.jpg',\n",
              " '/content/drive/MyDrive/archive/BichonFrise/BichonFrise .21.jpg',\n",
              " '/content/drive/MyDrive/archive/BichonFrise/BichonFrise .49.jpg',\n",
              " '/content/drive/MyDrive/archive/BichonFrise/BichonFrise .48.jpg',\n",
              " '/content/drive/MyDrive/archive/BichonFrise/BichonFrise .8.jpg',\n",
              " '/content/drive/MyDrive/archive/BichonFrise/BichonFrise .7.jpg',\n",
              " '/content/drive/MyDrive/archive/BichonFrise/BichonFrise .2.jpg',\n",
              " '/content/drive/MyDrive/archive/BichonFrise/BichonFrise .36.jpg',\n",
              " '/content/drive/MyDrive/archive/BichonFrise/BichonFrise .24.jpg',\n",
              " '/content/drive/MyDrive/archive/BichonFrise/BichonFrise .33.jpg',\n",
              " '/content/drive/MyDrive/archive/BichonFrise/BichonFrise .25.jpg',\n",
              " '/content/drive/MyDrive/archive/BichonFrise/BichonFrise .46.jpg',\n",
              " '/content/drive/MyDrive/archive/BichonFrise/BichonFrise .28.jpg',\n",
              " '/content/drive/MyDrive/archive/BichonFrise/BichonFrise .15.jpg',\n",
              " '/content/drive/MyDrive/archive/BichonFrise/BichonFrise .30.jpg',\n",
              " '/content/drive/MyDrive/archive/BichonFrise/BichonFrise .6.jpg',\n",
              " '/content/drive/MyDrive/archive/BichonFrise/BichonFrise .43.jpg',\n",
              " '/content/drive/MyDrive/archive/BichonFrise/BichonFrise .29.jpg',\n",
              " '/content/drive/MyDrive/archive/BichonFrise/BichonFrise .9.jpg',\n",
              " '/content/drive/MyDrive/archive/BichonFrise/BichonFrise .32.jpg',\n",
              " '/content/drive/MyDrive/archive/BichonFrise/BichonFrise .23.jpg',\n",
              " '/content/drive/MyDrive/archive/BichonFrise/BichonFrise .5.jpg',\n",
              " '/content/drive/MyDrive/archive/BichonFrise/BichonFrise .3.jpg',\n",
              " '/content/drive/MyDrive/archive/BichonFrise/BichonFrise .42.jpg',\n",
              " '/content/drive/MyDrive/archive/BichonFrise/BichonFrise .39.jpg',\n",
              " '/content/drive/MyDrive/archive/BichonFrise/BichonFrise .22.jpg',\n",
              " '/content/drive/MyDrive/archive/BichonFrise/BichonFrise .35.jpg',\n",
              " '/content/drive/MyDrive/archive/BichonFrise/BichonFrise .4.jpg',\n",
              " '/content/drive/MyDrive/archive/BichonFrise/BichonFrise .20.jpg',\n",
              " '/content/drive/MyDrive/archive/BichonFrise/BichonFrise .27.jpg',\n",
              " '/content/drive/MyDrive/archive/BichonFrise/BichonFrise .18.jpg',\n",
              " '/content/drive/MyDrive/archive/BichonFrise/BichonFrise .34.jpg',\n",
              " '/content/drive/MyDrive/archive/BichonFrise/BichonFrise .50.jpg',\n",
              " '/content/drive/MyDrive/archive/BichonFrise/BichonFrise .38.jpg',\n",
              " '/content/drive/MyDrive/archive/BichonFrise/BichonFrise .26.jpg',\n",
              " '/content/drive/MyDrive/archive/BichonFrise/BichonFrise .44.jpg',\n",
              " '/content/drive/MyDrive/archive/BichonFrise/BichonFrise .12.jpg',\n",
              " '/content/drive/MyDrive/archive/BichonFrise/BichonFrise .16.jpg',\n",
              " '/content/drive/MyDrive/archive/BichonFrise/BichonFrise .10.jpg',\n",
              " '/content/drive/MyDrive/archive/BichonFrise/BichonFrise .17.jpg',\n",
              " '/content/drive/MyDrive/archive/BichonFrise/BichonFrise .1.jpg',\n",
              " '/content/drive/MyDrive/archive/Boxer/Boxer .50.jpg',\n",
              " '/content/drive/MyDrive/archive/Boxer/Boxer .45.jpg',\n",
              " '/content/drive/MyDrive/archive/Boxer/Boxer .3.jpg',\n",
              " '/content/drive/MyDrive/archive/Boxer/Boxer .22.jpg',\n",
              " '/content/drive/MyDrive/archive/Boxer/Boxer .39.jpg',\n",
              " '/content/drive/MyDrive/archive/Boxer/Boxer .38.jpg',\n",
              " '/content/drive/MyDrive/archive/Boxer/Boxer .35.jpg',\n",
              " '/content/drive/MyDrive/archive/Boxer/Boxer .25.jpg',\n",
              " '/content/drive/MyDrive/archive/Boxer/Boxer .48.jpg',\n",
              " '/content/drive/MyDrive/archive/Boxer/Boxer .36.jpg',\n",
              " '/content/drive/MyDrive/archive/Boxer/Boxer .13.jpg',\n",
              " '/content/drive/MyDrive/archive/Boxer/Boxer .12.jpg',\n",
              " '/content/drive/MyDrive/archive/Boxer/Boxer .30.jpg',\n",
              " '/content/drive/MyDrive/archive/Boxer/Boxer .24.jpg',\n",
              " '/content/drive/MyDrive/archive/Boxer/Boxer .40.jpg',\n",
              " '/content/drive/MyDrive/archive/Boxer/Boxer .23.jpg',\n",
              " '/content/drive/MyDrive/archive/Boxer/Boxer .4.jpg',\n",
              " '/content/drive/MyDrive/archive/Boxer/Boxer .1.jpg',\n",
              " '/content/drive/MyDrive/archive/Boxer/Boxer .26.jpg',\n",
              " '/content/drive/MyDrive/archive/Boxer/Boxer .10.jpg',\n",
              " '/content/drive/MyDrive/archive/Boxer/Boxer .29.jpg',\n",
              " '/content/drive/MyDrive/archive/Boxer/Boxer .18.jpg',\n",
              " '/content/drive/MyDrive/archive/Boxer/Boxer .19.jpg',\n",
              " '/content/drive/MyDrive/archive/Boxer/Boxer .47.jpg',\n",
              " '/content/drive/MyDrive/archive/Boxer/Boxer .33.jpg',\n",
              " '/content/drive/MyDrive/archive/Boxer/Boxer .41.jpg',\n",
              " '/content/drive/MyDrive/archive/Boxer/Boxer .11.jpg',\n",
              " '/content/drive/MyDrive/archive/Boxer/Boxer .32.jpg',\n",
              " '/content/drive/MyDrive/archive/Boxer/Boxer .2.jpg',\n",
              " '/content/drive/MyDrive/archive/Boxer/Boxer .49.jpg',\n",
              " '/content/drive/MyDrive/archive/Boxer/Boxer .27.jpg',\n",
              " '/content/drive/MyDrive/archive/Boxer/Boxer .7.jpg',\n",
              " '/content/drive/MyDrive/archive/Boxer/Boxer .42.jpg',\n",
              " '/content/drive/MyDrive/archive/Boxer/Boxer .31.jpg',\n",
              " '/content/drive/MyDrive/archive/Boxer/Boxer .21.jpg',\n",
              " '/content/drive/MyDrive/archive/Boxer/Boxer .6.jpg',\n",
              " '/content/drive/MyDrive/archive/Boxer/Boxer .9.jpg',\n",
              " '/content/drive/MyDrive/archive/Boxer/Boxer .37.jpg',\n",
              " '/content/drive/MyDrive/archive/Boxer/Boxer .43.jpg',\n",
              " '/content/drive/MyDrive/archive/Boxer/Boxer .5.jpg',\n",
              " '/content/drive/MyDrive/archive/Boxer/Boxer .15.jpg',\n",
              " '/content/drive/MyDrive/archive/Boxer/Boxer .20.jpg',\n",
              " '/content/drive/MyDrive/archive/Boxer/Boxer .44.jpg',\n",
              " '/content/drive/MyDrive/archive/Boxer/Boxer .34.jpg',\n",
              " '/content/drive/MyDrive/archive/Boxer/Boxer .17.jpg',\n",
              " '/content/drive/MyDrive/archive/Boxer/Boxer .14.jpg',\n",
              " '/content/drive/MyDrive/archive/Boxer/Boxer .28.jpg',\n",
              " '/content/drive/MyDrive/archive/Boxer/Boxer .46.jpg',\n",
              " '/content/drive/MyDrive/archive/Boxer/Boxer .8.jpg',\n",
              " '/content/drive/MyDrive/archive/Boxer/Boxer .16.jpg',\n",
              " '/content/drive/MyDrive/archive/Beagle/Beagle .10.jpg',\n",
              " '/content/drive/MyDrive/archive/Beagle/Beagle .20.jpg',\n",
              " '/content/drive/MyDrive/archive/Beagle/Beagle .16.jpg',\n",
              " '/content/drive/MyDrive/archive/Beagle/Beagle .17.jpg',\n",
              " '/content/drive/MyDrive/archive/Beagle/Beagle .22.jpg',\n",
              " '/content/drive/MyDrive/archive/Beagle/Beagle .23.jpg',\n",
              " '/content/drive/MyDrive/archive/Beagle/Beagle .11.jpg',\n",
              " '/content/drive/MyDrive/archive/Beagle/Beagle .13.jpg',\n",
              " '/content/drive/MyDrive/archive/Beagle/Beagle .19.jpg',\n",
              " '/content/drive/MyDrive/archive/Beagle/Beagle .18.jpg',\n",
              " '/content/drive/MyDrive/archive/Beagle/Beagle .1.jpg',\n",
              " '/content/drive/MyDrive/archive/Beagle/Beagle .15.jpg',\n",
              " '/content/drive/MyDrive/archive/Beagle/Beagle .21.JPG',\n",
              " '/content/drive/MyDrive/archive/Beagle/Beagle .2.jpg',\n",
              " '/content/drive/MyDrive/archive/Beagle/Beagle .14.jpg',\n",
              " '/content/drive/MyDrive/archive/Beagle/Beagle .12.jpg',\n",
              " '/content/drive/MyDrive/archive/Beagle/Beagle .24.jpg',\n",
              " '/content/drive/MyDrive/archive/Beagle/Beagle .26.jpg',\n",
              " '/content/drive/MyDrive/archive/Beagle/Beagle .6.jpg',\n",
              " '/content/drive/MyDrive/archive/Beagle/Beagle .7.jpg',\n",
              " '/content/drive/MyDrive/archive/Beagle/Beagle .28.jpg',\n",
              " '/content/drive/MyDrive/archive/Beagle/Beagle .33.jpg',\n",
              " '/content/drive/MyDrive/archive/Beagle/Beagle .50.jpg',\n",
              " '/content/drive/MyDrive/archive/Beagle/Beagle .42.jpg',\n",
              " '/content/drive/MyDrive/archive/Beagle/Beagle .47.jpg',\n",
              " '/content/drive/MyDrive/archive/Beagle/Beagle .29.jpg',\n",
              " '/content/drive/MyDrive/archive/Beagle/Beagle .43.jpg',\n",
              " '/content/drive/MyDrive/archive/Beagle/Beagle .39.jpg',\n",
              " '/content/drive/MyDrive/archive/Beagle/Beagle .30.jpg',\n",
              " '/content/drive/MyDrive/archive/Beagle/Beagle .37.jpg',\n",
              " '/content/drive/MyDrive/archive/Beagle/Beagle .3.jpg',\n",
              " '/content/drive/MyDrive/archive/Beagle/Beagle .9.jpg',\n",
              " '/content/drive/MyDrive/archive/Beagle/Beagle .25.jpg',\n",
              " '/content/drive/MyDrive/archive/Beagle/Beagle .8.jpg',\n",
              " '/content/drive/MyDrive/archive/Beagle/Beagle .46.jpg',\n",
              " '/content/drive/MyDrive/archive/Beagle/Beagle .41.jpg',\n",
              " '/content/drive/MyDrive/archive/Beagle/Beagle .49.jpg',\n",
              " '/content/drive/MyDrive/archive/Beagle/Beagle .27.jpg',\n",
              " '/content/drive/MyDrive/archive/Beagle/Beagle .38.jpg',\n",
              " '/content/drive/MyDrive/archive/Beagle/Beagle .32.jpg',\n",
              " '/content/drive/MyDrive/archive/Beagle/Beagle .35.jpg',\n",
              " '/content/drive/MyDrive/archive/Beagle/Beagle .5.jpg',\n",
              " '/content/drive/MyDrive/archive/Beagle/Beagle .48.jpg',\n",
              " '/content/drive/MyDrive/archive/Beagle/Beagle .45.jpg',\n",
              " '/content/drive/MyDrive/archive/Beagle/Beagle .36.jpg',\n",
              " '/content/drive/MyDrive/archive/Beagle/Beagle .4.jpg',\n",
              " '/content/drive/MyDrive/archive/Beagle/Beagle .40.jpg',\n",
              " '/content/drive/MyDrive/archive/Beagle/Beagle .34.jpg',\n",
              " '/content/drive/MyDrive/archive/Beagle/Beagle .44.jpg',\n",
              " '/content/drive/MyDrive/archive/Beagle/Beagle .31.jpg',\n",
              " '/content/drive/MyDrive/archive/Auggie/Auggie .44.jpg',\n",
              " '/content/drive/MyDrive/archive/Auggie/Auggie .32.jpg',\n",
              " '/content/drive/MyDrive/archive/Auggie/Auggie .31.jpg',\n",
              " '/content/drive/MyDrive/archive/Auggie/Auggie .47.jpg',\n",
              " '/content/drive/MyDrive/archive/Auggie/Auggie .4.JPG',\n",
              " '/content/drive/MyDrive/archive/Auggie/Auggie .30.jpg',\n",
              " '/content/drive/MyDrive/archive/Auggie/Auggie .15.jpg',\n",
              " '/content/drive/MyDrive/archive/Auggie/Auggie .50.jpg',\n",
              " '/content/drive/MyDrive/archive/Auggie/Auggie .17.jpg',\n",
              " '/content/drive/MyDrive/archive/Auggie/Auggie .13.JPG',\n",
              " '/content/drive/MyDrive/archive/Auggie/Auggie .10.jpg',\n",
              " '/content/drive/MyDrive/archive/Auggie/Auggie .5.jpg',\n",
              " '/content/drive/MyDrive/archive/Auggie/Auggie .14.JPG',\n",
              " '/content/drive/MyDrive/archive/Auggie/Auggie .9.jpg',\n",
              " '/content/drive/MyDrive/archive/Auggie/Auggie .18.jpg',\n",
              " '/content/drive/MyDrive/archive/Auggie/Auggie .34.JPG',\n",
              " '/content/drive/MyDrive/archive/Auggie/Auggie .16.jpg',\n",
              " '/content/drive/MyDrive/archive/Auggie/Auggie .29.jpg',\n",
              " '/content/drive/MyDrive/archive/Auggie/Auggie .2.jpg',\n",
              " '/content/drive/MyDrive/archive/Auggie/Auggie .19.jpg',\n",
              " '/content/drive/MyDrive/archive/Auggie/Auggie .20.JPG',\n",
              " '/content/drive/MyDrive/archive/Auggie/Auggie .24.JPG',\n",
              " '/content/drive/MyDrive/archive/Auggie/Auggie .40.jpg',\n",
              " '/content/drive/MyDrive/archive/Auggie/Auggie .7.jpg',\n",
              " '/content/drive/MyDrive/archive/Auggie/Auggie .22.JPG',\n",
              " '/content/drive/MyDrive/archive/Auggie/Auggie .36.jpg',\n",
              " '/content/drive/MyDrive/archive/Auggie/Auggie .11.jpg',\n",
              " '/content/drive/MyDrive/archive/Auggie/Auggie .46.jpg',\n",
              " '/content/drive/MyDrive/archive/Auggie/Auggie .49.jpg',\n",
              " '/content/drive/MyDrive/archive/Auggie/Auggie .38.jpg',\n",
              " '/content/drive/MyDrive/archive/Auggie/Auggie .21.jpg',\n",
              " '/content/drive/MyDrive/archive/Auggie/Auggie .42.JPG',\n",
              " '/content/drive/MyDrive/archive/Auggie/Auggie .3.jpg',\n",
              " '/content/drive/MyDrive/archive/Auggie/Auggie .23.jpg',\n",
              " '/content/drive/MyDrive/archive/Auggie/Auggie .41.jpg',\n",
              " '/content/drive/MyDrive/archive/Auggie/Auggie .27.jpg',\n",
              " '/content/drive/MyDrive/archive/Auggie/Auggie .12.jpg',\n",
              " '/content/drive/MyDrive/archive/Auggie/Auggie .43.jpg',\n",
              " '/content/drive/MyDrive/archive/Auggie/Auggie .25.JPG',\n",
              " '/content/drive/MyDrive/archive/Auggie/Auggie .28.jpg',\n",
              " '/content/drive/MyDrive/archive/Auggie/Auggie .39.jpg',\n",
              " '/content/drive/MyDrive/archive/Auggie/Auggie .8.jpg',\n",
              " '/content/drive/MyDrive/archive/Auggie/Auggie .45.jpg',\n",
              " '/content/drive/MyDrive/archive/Auggie/Auggie .33.jpg',\n",
              " '/content/drive/MyDrive/archive/Auggie/Auggie .35.jpg',\n",
              " '/content/drive/MyDrive/archive/Auggie/Auggie .37.jpg',\n",
              " '/content/drive/MyDrive/archive/Auggie/Auggie .6.jpg',\n",
              " '/content/drive/MyDrive/archive/Auggie/Auggie .48.jpg',\n",
              " '/content/drive/MyDrive/archive/Auggie/Auggie .26.jpg',\n",
              " '/content/drive/MyDrive/archive/Auggie/Auggie .1.JPG',\n",
              " '/content/drive/MyDrive/archive/Bulldog/Bulldog.9.jpg',\n",
              " '/content/drive/MyDrive/archive/Bulldog/Bulldog.12.jpg',\n",
              " '/content/drive/MyDrive/archive/Bulldog/Bulldog.21.jpg',\n",
              " '/content/drive/MyDrive/archive/Bulldog/Bulldog.14.jpg',\n",
              " '/content/drive/MyDrive/archive/Bulldog/Bulldog.19.jpg',\n",
              " '/content/drive/MyDrive/archive/Bulldog/Bulldog.20.jpg',\n",
              " '/content/drive/MyDrive/archive/Bulldog/Bulldog.1.jpg',\n",
              " '/content/drive/MyDrive/archive/Bulldog/Bulldog.18.jpg',\n",
              " '/content/drive/MyDrive/archive/Bulldog/Bulldog.11.jpg',\n",
              " '/content/drive/MyDrive/archive/Bulldog/Bulldog.10.jpg',\n",
              " '/content/drive/MyDrive/archive/Bulldog/Bulldog.17.jpg',\n",
              " '/content/drive/MyDrive/archive/Bulldog/Bulldog.47.jpeg',\n",
              " '/content/drive/MyDrive/archive/Bulldog/Bulldog.16.jpg',\n",
              " '/content/drive/MyDrive/archive/Bulldog/Bulldog.15.jpg',\n",
              " '/content/drive/MyDrive/archive/Bulldog/Bulldog.13.jpg',\n",
              " '/content/drive/MyDrive/archive/Bulldog/Bulldog.40.jpg',\n",
              " '/content/drive/MyDrive/archive/Bulldog/Bulldog.37.jpg',\n",
              " '/content/drive/MyDrive/archive/Bulldog/Bulldog.22.jpg',\n",
              " '/content/drive/MyDrive/archive/Bulldog/Bulldog.35.jpg',\n",
              " '/content/drive/MyDrive/archive/Bulldog/Bulldog.28.jpg',\n",
              " '/content/drive/MyDrive/archive/Bulldog/Bulldog.4.jpg',\n",
              " '/content/drive/MyDrive/archive/Bulldog/Bulldog.34.jpg',\n",
              " '/content/drive/MyDrive/archive/Bulldog/Bulldog.25.jpg',\n",
              " '/content/drive/MyDrive/archive/Bulldog/Bulldog.36.jpg',\n",
              " '/content/drive/MyDrive/archive/Bulldog/Bulldog.43.jpg',\n",
              " '/content/drive/MyDrive/archive/Bulldog/Bulldog.39.jpg',\n",
              " '/content/drive/MyDrive/archive/Bulldog/Bulldog.30.jpg',\n",
              " '/content/drive/MyDrive/archive/Bulldog/Bulldog.8.jpg',\n",
              " '/content/drive/MyDrive/archive/Bulldog/Bulldog.6.jpg',\n",
              " '/content/drive/MyDrive/archive/Bulldog/Bulldog.2.jpg',\n",
              " '/content/drive/MyDrive/archive/Bulldog/Bulldog.42.jpg',\n",
              " '/content/drive/MyDrive/archive/Bulldog/Bulldog.27.jpg',\n",
              " '/content/drive/MyDrive/archive/Bulldog/Bulldog.23.jpg',\n",
              " '/content/drive/MyDrive/archive/Bulldog/Bulldog.5.jpg',\n",
              " '/content/drive/MyDrive/archive/Bulldog/Bulldog.24.jpg',\n",
              " '/content/drive/MyDrive/archive/Bulldog/Bulldog.33.jpg',\n",
              " '/content/drive/MyDrive/archive/Bulldog/Bulldog.31.jpg',\n",
              " '/content/drive/MyDrive/archive/Bulldog/Bulldog.32.jpg',\n",
              " '/content/drive/MyDrive/archive/Bulldog/Bulldog.45.jpg',\n",
              " '/content/drive/MyDrive/archive/Bulldog/Bulldog.26.jpg',\n",
              " '/content/drive/MyDrive/archive/Bulldog/Bulldog.46.jpg',\n",
              " '/content/drive/MyDrive/archive/Bulldog/Bulldog.44.jpg',\n",
              " '/content/drive/MyDrive/archive/Bulldog/Bulldog.38.jpg',\n",
              " '/content/drive/MyDrive/archive/Bulldog/Bulldog.7.jpg',\n",
              " '/content/drive/MyDrive/archive/Bulldog/Bulldog.29.jpg',\n",
              " '/content/drive/MyDrive/archive/Bulldog/Bulldog.41.jpg',\n",
              " '/content/drive/MyDrive/archive/Bulldog/Bulldog.3.jpg',\n",
              " '/content/drive/MyDrive/archive/Borzoi/Borzoi .9.jpg',\n",
              " '/content/drive/MyDrive/archive/Borzoi/Borzoi .11.jpg',\n",
              " '/content/drive/MyDrive/archive/Borzoi/Borzoi .1.jpg',\n",
              " '/content/drive/MyDrive/archive/Borzoi/Borzoi .10.jpg',\n",
              " '/content/drive/MyDrive/archive/Borzoi/Borzoi .16.jpg',\n",
              " '/content/drive/MyDrive/archive/Borzoi/Borzoi .4.jpg',\n",
              " '/content/drive/MyDrive/archive/Borzoi/Borzoi .8.jpg',\n",
              " '/content/drive/MyDrive/archive/Borzoi/Borzoi .23.jpg',\n",
              " '/content/drive/MyDrive/archive/Borzoi/Borzoi .31.jpg',\n",
              " '/content/drive/MyDrive/archive/Borzoi/Borzoi .32.jpg',\n",
              " '/content/drive/MyDrive/archive/Borzoi/Borzoi .33.jpg',\n",
              " '/content/drive/MyDrive/archive/Borzoi/Borzoi .5.jpg',\n",
              " '/content/drive/MyDrive/archive/Borzoi/Borzoi .15.jpg',\n",
              " '/content/drive/MyDrive/archive/Borzoi/Borzoi .35.jpg',\n",
              " '/content/drive/MyDrive/archive/Borzoi/Borzoi .19.jpg',\n",
              " '/content/drive/MyDrive/archive/Borzoi/Borzoi .41.jpg',\n",
              " '/content/drive/MyDrive/archive/Borzoi/Borzoi .14.jpg',\n",
              " '/content/drive/MyDrive/archive/Borzoi/Borzoi .18.jpg',\n",
              " '/content/drive/MyDrive/archive/Borzoi/Borzoi .36.jpg',\n",
              " '/content/drive/MyDrive/archive/Borzoi/Borzoi .30.jpg',\n",
              " '/content/drive/MyDrive/archive/Borzoi/Borzoi .17.jpg',\n",
              " '/content/drive/MyDrive/archive/Borzoi/Borzoi .24.jpg',\n",
              " '/content/drive/MyDrive/archive/Borzoi/Borzoi .20.jpg',\n",
              " '/content/drive/MyDrive/archive/Borzoi/Borzoi .26.jpg',\n",
              " '/content/drive/MyDrive/archive/Borzoi/Borzoi .34.jpg',\n",
              " '/content/drive/MyDrive/archive/Borzoi/Borzoi .38.jpg',\n",
              " '/content/drive/MyDrive/archive/Borzoi/Borzoi .12.jpg',\n",
              " '/content/drive/MyDrive/archive/Borzoi/Borzoi .40.jpg',\n",
              " '/content/drive/MyDrive/archive/Borzoi/Borzoi .42.jpg',\n",
              " '/content/drive/MyDrive/archive/Borzoi/Borzoi .43.jpg',\n",
              " '/content/drive/MyDrive/archive/Borzoi/Borzoi .47.jpg',\n",
              " '/content/drive/MyDrive/archive/Borzoi/Borzoi .48.jpg',\n",
              " '/content/drive/MyDrive/archive/Borzoi/Borzoi .44.jpg',\n",
              " '/content/drive/MyDrive/archive/Borzoi/Borzoi .27.jpg',\n",
              " '/content/drive/MyDrive/archive/Borzoi/Borzoi .39.jpg',\n",
              " '/content/drive/MyDrive/archive/Borzoi/Borzoi .22.jpg',\n",
              " '/content/drive/MyDrive/archive/Borzoi/Borzoi .7.jpg',\n",
              " '/content/drive/MyDrive/archive/Borzoi/Borzoi .2.png',\n",
              " '/content/drive/MyDrive/archive/Borzoi/Borzoi .13.jpg',\n",
              " '/content/drive/MyDrive/archive/Borzoi/Borzoi .45.jpg',\n",
              " '/content/drive/MyDrive/archive/Borzoi/Borzoi .28.jpg',\n",
              " '/content/drive/MyDrive/archive/Borzoi/Borzoi .3.jpg',\n",
              " '/content/drive/MyDrive/archive/Borzoi/Borzoi .6.jpg',\n",
              " '/content/drive/MyDrive/archive/Borzoi/Borzoi .46.jpg',\n",
              " '/content/drive/MyDrive/archive/Borzoi/Borzoi .21.jpg',\n",
              " '/content/drive/MyDrive/archive/Borzoi/Borzoi .29.jpg',\n",
              " '/content/drive/MyDrive/archive/Borzoi/Borzoi .37.jpg',\n",
              " '/content/drive/MyDrive/archive/Borzoi/Borzoi .25.jpg',\n",
              " '/content/drive/MyDrive/archive/AmericanBulldog/American Bulldog .11.jpg',\n",
              " '/content/drive/MyDrive/archive/AmericanBulldog/American Bulldog .19.jpg',\n",
              " '/content/drive/MyDrive/archive/AmericanBulldog/American Bulldog .27.jpg',\n",
              " '/content/drive/MyDrive/archive/AmericanBulldog/American Bulldog .41.jpg',\n",
              " '/content/drive/MyDrive/archive/AmericanBulldog/American Bulldog .45.jpg',\n",
              " '/content/drive/MyDrive/archive/AmericanBulldog/American Bulldog .7.jpg',\n",
              " '/content/drive/MyDrive/archive/AmericanBulldog/American Bulldog .3.jpg',\n",
              " '/content/drive/MyDrive/archive/AmericanBulldog/American Bulldog .4.jpg',\n",
              " '/content/drive/MyDrive/archive/AmericanBulldog/American Bulldog .12.jpg',\n",
              " '/content/drive/MyDrive/archive/AmericanBulldog/American Bulldog .20.jpg',\n",
              " '/content/drive/MyDrive/archive/AmericanBulldog/American Bulldog .6.jpg',\n",
              " '/content/drive/MyDrive/archive/AmericanBulldog/American Bulldog .16.jpg',\n",
              " '/content/drive/MyDrive/archive/AmericanBulldog/American Bulldog .23.jpg',\n",
              " '/content/drive/MyDrive/archive/AmericanBulldog/American Bulldog .18.jpg',\n",
              " '/content/drive/MyDrive/archive/AmericanBulldog/American Bulldog .28.jpg',\n",
              " '/content/drive/MyDrive/archive/AmericanBulldog/American Bulldog .35.jpg',\n",
              " '/content/drive/MyDrive/archive/AmericanBulldog/American Bulldog .33.jpg',\n",
              " '/content/drive/MyDrive/archive/AmericanBulldog/American Bulldog .17.jpg',\n",
              " '/content/drive/MyDrive/archive/AmericanBulldog/American Bulldog .8.jpg',\n",
              " '/content/drive/MyDrive/archive/AmericanBulldog/American Bulldog .38.jpg',\n",
              " '/content/drive/MyDrive/archive/AmericanBulldog/American Bulldog .39.jpg',\n",
              " '/content/drive/MyDrive/archive/AmericanBulldog/American Bulldog .15.jpg',\n",
              " '/content/drive/MyDrive/archive/AmericanBulldog/American Bulldog .26.jpg',\n",
              " '/content/drive/MyDrive/archive/AmericanBulldog/American Bulldog .42.jpg',\n",
              " '/content/drive/MyDrive/archive/AmericanBulldog/American Bulldog .9.jpg',\n",
              " '/content/drive/MyDrive/archive/AmericanBulldog/American Bulldog .25.jpg',\n",
              " '/content/drive/MyDrive/archive/AmericanBulldog/American Bulldog .46.jpg',\n",
              " '/content/drive/MyDrive/archive/AmericanBulldog/American Bulldog .2.jpg',\n",
              " '/content/drive/MyDrive/archive/AmericanBulldog/American Bulldog .21.jpg',\n",
              " '/content/drive/MyDrive/archive/AmericanBulldog/American Bulldog .34.jpg',\n",
              " '/content/drive/MyDrive/archive/AmericanBulldog/American Bulldog .48.jpg',\n",
              " '/content/drive/MyDrive/archive/AmericanBulldog/American Bulldog .44.jpg',\n",
              " '/content/drive/MyDrive/archive/AmericanBulldog/American Bulldog .29.jpg',\n",
              " '/content/drive/MyDrive/archive/AmericanBulldog/American Bulldog .36.jpg',\n",
              " '/content/drive/MyDrive/archive/AmericanBulldog/American Bulldog .40.jpg',\n",
              " '/content/drive/MyDrive/archive/AmericanBulldog/American Bulldog .47.jpg',\n",
              " '/content/drive/MyDrive/archive/AmericanBulldog/American Bulldog .5.jpg',\n",
              " '/content/drive/MyDrive/archive/AmericanBulldog/American Bulldog .43.jpg',\n",
              " '/content/drive/MyDrive/archive/AmericanBulldog/American Bulldog .22.jpg',\n",
              " '/content/drive/MyDrive/archive/AmericanBulldog/American Bulldog .37.jpg',\n",
              " '/content/drive/MyDrive/archive/AmericanBulldog/American Bulldog .30.jpg',\n",
              " '/content/drive/MyDrive/archive/AmericanBulldog/American Bulldog .32.jpg',\n",
              " '/content/drive/MyDrive/archive/AmericanBulldog/American Bulldog .31.jpg',\n",
              " '/content/drive/MyDrive/archive/AmericanBulldog/American Bulldog .10.jpg',\n",
              " '/content/drive/MyDrive/archive/AmericanBulldog/American Bulldog .13.jpg',\n",
              " '/content/drive/MyDrive/archive/AmericanBulldog/American Bulldog .24.jpg',\n",
              " '/content/drive/MyDrive/archive/AmericanBulldog/American Bulldog .14.jpg',\n",
              " '/content/drive/MyDrive/archive/AmericanBulldog/American Bulldog .1.jpg',\n",
              " '/content/drive/MyDrive/archive/Bugg/Bugg .3.jpg',\n",
              " '/content/drive/MyDrive/archive/Bugg/Bugg .12.jpg',\n",
              " '/content/drive/MyDrive/archive/Bugg/Bugg .18.jpg',\n",
              " '/content/drive/MyDrive/archive/Bugg/Bugg .16.jpg',\n",
              " '/content/drive/MyDrive/archive/Bugg/Bugg .7.jpg',\n",
              " '/content/drive/MyDrive/archive/Bugg/Bugg .29.jpg',\n",
              " '/content/drive/MyDrive/archive/Bugg/Bugg .15.jpg',\n",
              " '/content/drive/MyDrive/archive/Bugg/Bugg .11.JPG',\n",
              " '/content/drive/MyDrive/archive/Bugg/Bugg .40.JPG',\n",
              " '/content/drive/MyDrive/archive/Bugg/Bugg .24.jpg',\n",
              " '/content/drive/MyDrive/archive/Bugg/Bugg .25.JPG',\n",
              " '/content/drive/MyDrive/archive/Bugg/Bugg .35.jpg',\n",
              " '/content/drive/MyDrive/archive/Bugg/Bugg .13.JPG',\n",
              " '/content/drive/MyDrive/archive/Bugg/Bugg .38.jpg',\n",
              " '/content/drive/MyDrive/archive/Bugg/Bugg .21.jpg',\n",
              " '/content/drive/MyDrive/archive/Bugg/Bugg .44.jpg',\n",
              " '/content/drive/MyDrive/archive/Bugg/Bugg .4.jpg',\n",
              " '/content/drive/MyDrive/archive/Bugg/Bugg .27.jpg',\n",
              " '/content/drive/MyDrive/archive/Bugg/Bugg .6.jpg',\n",
              " '/content/drive/MyDrive/archive/Bugg/Bugg .9.JPG',\n",
              " '/content/drive/MyDrive/archive/Bugg/Bugg .46.JPG',\n",
              " '/content/drive/MyDrive/archive/Bugg/Bugg .22.jpg',\n",
              " '/content/drive/MyDrive/archive/Bugg/Bugg .49.jpg',\n",
              " '/content/drive/MyDrive/archive/Bugg/Bugg .50.jpg',\n",
              " '/content/drive/MyDrive/archive/Bugg/Bugg .43.jpg',\n",
              " '/content/drive/MyDrive/archive/Bugg/Bugg .30.jpg',\n",
              " '/content/drive/MyDrive/archive/Bugg/Bugg .39.jpg',\n",
              " '/content/drive/MyDrive/archive/Bugg/Bugg .41.jpg',\n",
              " '/content/drive/MyDrive/archive/Bugg/Bugg .45.JPG',\n",
              " '/content/drive/MyDrive/archive/Bugg/Bugg .2.jpg',\n",
              " '/content/drive/MyDrive/archive/Bugg/Bugg .42.jpg',\n",
              " '/content/drive/MyDrive/archive/Bugg/Bugg .17.jpg',\n",
              " '/content/drive/MyDrive/archive/Bugg/Bugg .34.jpg',\n",
              " '/content/drive/MyDrive/archive/Bugg/Bugg .37.jpg',\n",
              " '/content/drive/MyDrive/archive/Bugg/Bugg .1.jpg',\n",
              " '/content/drive/MyDrive/archive/Bugg/Bugg .48.jpg',\n",
              " '/content/drive/MyDrive/archive/Bugg/Bugg .23.JPG',\n",
              " '/content/drive/MyDrive/archive/Bugg/Bugg .14.jpg',\n",
              " '/content/drive/MyDrive/archive/Bugg/Bugg .10.jpg',\n",
              " '/content/drive/MyDrive/archive/Bugg/Bugg .26.jpg',\n",
              " '/content/drive/MyDrive/archive/Bugg/Bugg .20.jpg',\n",
              " '/content/drive/MyDrive/archive/Bugg/Bugg .8.jpg',\n",
              " '/content/drive/MyDrive/archive/Bugg/Bugg .28.jpg',\n",
              " '/content/drive/MyDrive/archive/Bugg/Bugg .19.jpg',\n",
              " '/content/drive/MyDrive/archive/Bugg/Bugg .32.jpg',\n",
              " '/content/drive/MyDrive/archive/Bugg/Bugg .36.JPG',\n",
              " '/content/drive/MyDrive/archive/Bugg/Bugg .47.jpg',\n",
              " '/content/drive/MyDrive/archive/Bugg/Bugg .33.jpg',\n",
              " '/content/drive/MyDrive/archive/Bugg/Bugg .31.jpg',\n",
              " '/content/drive/MyDrive/archive/Bugg/Bugg .5.jpg',\n",
              " '/content/drive/MyDrive/archive/Bocker/Bocker .15.jpg',\n",
              " '/content/drive/MyDrive/archive/Bocker/Bocker .27.jpg',\n",
              " '/content/drive/MyDrive/archive/Bocker/Bocker .30.jpg',\n",
              " '/content/drive/MyDrive/archive/Bocker/Bocker .9.jpg',\n",
              " '/content/drive/MyDrive/archive/Bocker/Bocker .37.jpg',\n",
              " '/content/drive/MyDrive/archive/Bocker/Bocker .17.jpg',\n",
              " '/content/drive/MyDrive/archive/Bocker/Bocker .41.jpg',\n",
              " '/content/drive/MyDrive/archive/Bocker/Bocker .11.jpg',\n",
              " '/content/drive/MyDrive/archive/Bocker/Bocker .22.jpg',\n",
              " '/content/drive/MyDrive/archive/Bocker/Bocker .1.jpg',\n",
              " '/content/drive/MyDrive/archive/Bocker/Bocker .13.jpg',\n",
              " '/content/drive/MyDrive/archive/Bocker/Bocker .43.jpg',\n",
              " '/content/drive/MyDrive/archive/Bocker/Bocker .39.jpg',\n",
              " '/content/drive/MyDrive/archive/Bocker/Bocker .38.jpg',\n",
              " '/content/drive/MyDrive/archive/Bocker/Bocker .6.jpg',\n",
              " '/content/drive/MyDrive/archive/Bocker/Bocker .20.jpg',\n",
              " '/content/drive/MyDrive/archive/Bocker/Bocker .36.jpg',\n",
              " '/content/drive/MyDrive/archive/Bocker/Bocker .7.jpg',\n",
              " '/content/drive/MyDrive/archive/Bocker/Bocker .32.jpg',\n",
              " '/content/drive/MyDrive/archive/Bocker/Bocker .14.jpg',\n",
              " '/content/drive/MyDrive/archive/Bocker/Bocker .42.jpg',\n",
              " '/content/drive/MyDrive/archive/Bocker/Bocker .31.jpg',\n",
              " '/content/drive/MyDrive/archive/Bocker/Bocker .2.jpg',\n",
              " '/content/drive/MyDrive/archive/Bocker/Bocker .25.jpg',\n",
              " '/content/drive/MyDrive/archive/Bocker/Bocker .16.jpg',\n",
              " '/content/drive/MyDrive/archive/Bocker/Bocker .33.jpg',\n",
              " '/content/drive/MyDrive/archive/Bocker/Bocker .10.JPG',\n",
              " '/content/drive/MyDrive/archive/Bocker/Bocker .29.jpg',\n",
              " '/content/drive/MyDrive/archive/Bocker/Bocker .34.jpg',\n",
              " '/content/drive/MyDrive/archive/Bocker/Bocker .45.jpg',\n",
              " '/content/drive/MyDrive/archive/Bocker/Bocker .46.jpg',\n",
              " '/content/drive/MyDrive/archive/Bocker/Bocker .5.jpg',\n",
              " '/content/drive/MyDrive/archive/Bocker/Bocker .8.jpg',\n",
              " '/content/drive/MyDrive/archive/Bocker/Bocker .26.jpg',\n",
              " '/content/drive/MyDrive/archive/Bocker/Bocker .12.jpg',\n",
              " '/content/drive/MyDrive/archive/Bocker/Bocker .47.jpg',\n",
              " '/content/drive/MyDrive/archive/Bocker/Bocker .21.jpg',\n",
              " '/content/drive/MyDrive/archive/Bocker/Bocker .28.jpg',\n",
              " '/content/drive/MyDrive/archive/Bocker/Bocker .40.jpg',\n",
              " '/content/drive/MyDrive/archive/Bocker/Bocker .23.jpg',\n",
              " '/content/drive/MyDrive/archive/Bocker/Bocker .4.jpg',\n",
              " '/content/drive/MyDrive/archive/Bocker/Bocker .19.jpg',\n",
              " '/content/drive/MyDrive/archive/Bocker/Bocker .3.JPG',\n",
              " '/content/drive/MyDrive/archive/Bocker/Bocker .44.jpg',\n",
              " '/content/drive/MyDrive/archive/Bocker/Bocker .24.JPG',\n",
              " '/content/drive/MyDrive/archive/Bocker/Bocker .35.jpg',\n",
              " '/content/drive/MyDrive/archive/Bocker/Bocker .18.jpg',\n",
              " '/content/drive/MyDrive/archive/BelgianTervuren/BelgianTervuren .40.jpg',\n",
              " '/content/drive/MyDrive/archive/BelgianTervuren/BelgianTervuren .25.jpg',\n",
              " '/content/drive/MyDrive/archive/BelgianTervuren/BelgianTervuren .33.jpg',\n",
              " '/content/drive/MyDrive/archive/BelgianTervuren/BelgianTervuren .34.jpg',\n",
              " '/content/drive/MyDrive/archive/BelgianTervuren/BelgianTervuren .31.jpg',\n",
              " '/content/drive/MyDrive/archive/BelgianTervuren/BelgianTervuren .13.jpg',\n",
              " '/content/drive/MyDrive/archive/BelgianTervuren/BelgianTervuren .3.jpeg',\n",
              " '/content/drive/MyDrive/archive/BelgianTervuren/BelgianTervuren .5.jpg',\n",
              " '/content/drive/MyDrive/archive/BelgianTervuren/BelgianTervuren .28.jpg',\n",
              " '/content/drive/MyDrive/archive/BelgianTervuren/BelgianTervuren .42.jpg',\n",
              " '/content/drive/MyDrive/archive/BelgianTervuren/BelgianTervuren .24.jpg',\n",
              " '/content/drive/MyDrive/archive/BelgianTervuren/BelgianTervuren .7.jpg',\n",
              " '/content/drive/MyDrive/archive/BelgianTervuren/BelgianTervuren .20.jpg',\n",
              " '/content/drive/MyDrive/archive/BelgianTervuren/BelgianTervuren .17.jpg',\n",
              " '/content/drive/MyDrive/archive/BelgianTervuren/BelgianTervuren .30.jpg',\n",
              " '/content/drive/MyDrive/archive/BelgianTervuren/BelgianTervuren .2.jpeg',\n",
              " '/content/drive/MyDrive/archive/BelgianTervuren/BelgianTervuren .43.JPG',\n",
              " '/content/drive/MyDrive/archive/BelgianTervuren/BelgianTervuren .23.jpg',\n",
              " '/content/drive/MyDrive/archive/BelgianTervuren/BelgianTervuren .32.jpg',\n",
              " '/content/drive/MyDrive/archive/BelgianTervuren/BelgianTervuren .14.jpg',\n",
              " '/content/drive/MyDrive/archive/BelgianTervuren/BelgianTervuren .44.jpg',\n",
              " '/content/drive/MyDrive/archive/BelgianTervuren/BelgianTervuren .35.jpg',\n",
              " '/content/drive/MyDrive/archive/BelgianTervuren/BelgianTervuren .36.jpg',\n",
              " '/content/drive/MyDrive/archive/BelgianTervuren/BelgianTervuren .39.jpg',\n",
              " '/content/drive/MyDrive/archive/BelgianTervuren/BelgianTervuren .29.jpg',\n",
              " '/content/drive/MyDrive/archive/BelgianTervuren/BelgianTervuren .4.jpg',\n",
              " '/content/drive/MyDrive/archive/BelgianTervuren/BelgianTervuren .9.jpg',\n",
              " '/content/drive/MyDrive/archive/BelgianTervuren/BelgianTervuren .16.jpg',\n",
              " '/content/drive/MyDrive/archive/BelgianTervuren/BelgianTervuren .3.jpg',\n",
              " '/content/drive/MyDrive/archive/BelgianTervuren/BelgianTervuren .37.jpg',\n",
              " '/content/drive/MyDrive/archive/BelgianTervuren/BelgianTervuren .19.jpg',\n",
              " '/content/drive/MyDrive/archive/BelgianTervuren/BelgianTervuren .45.jpg',\n",
              " '/content/drive/MyDrive/archive/BelgianTervuren/BelgianTervuren .21.jpg',\n",
              " '/content/drive/MyDrive/archive/BelgianTervuren/BelgianTervuren .6.jpg',\n",
              " '/content/drive/MyDrive/archive/BelgianTervuren/BelgianTervuren .10.jpg',\n",
              " '/content/drive/MyDrive/archive/BelgianTervuren/BelgianTervuren .12.jpg',\n",
              " '/content/drive/MyDrive/archive/BelgianTervuren/BelgianTervuren .8.jpg',\n",
              " '/content/drive/MyDrive/archive/BelgianTervuren/BelgianTervuren .41.jpg',\n",
              " '/content/drive/MyDrive/archive/BelgianTervuren/BelgianTervuren .27.jpg',\n",
              " '/content/drive/MyDrive/archive/BelgianTervuren/BelgianTervuren .15.jpg',\n",
              " '/content/drive/MyDrive/archive/BelgianTervuren/BelgianTervuren .11.jpg',\n",
              " '/content/drive/MyDrive/archive/BelgianTervuren/BelgianTervuren .46.jpg',\n",
              " '/content/drive/MyDrive/archive/BelgianTervuren/BelgianTervuren .18.jpg',\n",
              " '/content/drive/MyDrive/archive/BelgianTervuren/BelgianTervuren .1.jpg',\n",
              " '/content/drive/MyDrive/archive/BelgianTervuren/BelgianTervuren .22.jpg',\n",
              " '/content/drive/MyDrive/archive/BelgianTervuren/BelgianTervuren .47.jpg',\n",
              " '/content/drive/MyDrive/archive/BelgianTervuren/BelgianTervuren .26.jpg',\n",
              " '/content/drive/MyDrive/archive/BelgianTervuren/BelgianTervuren .38.jpg',\n",
              " '/content/drive/MyDrive/archive/AfganHound/AfganHound .6.jpg',\n",
              " '/content/drive/MyDrive/archive/AfganHound/AfganHound .16.jpg',\n",
              " '/content/drive/MyDrive/archive/AfganHound/AfganHound .41.jpg',\n",
              " '/content/drive/MyDrive/archive/AfganHound/AfganHound .48.jpg',\n",
              " '/content/drive/MyDrive/archive/AfganHound/AfganHound .19.jpg',\n",
              " '/content/drive/MyDrive/archive/AfganHound/AfganHound .2.jpg',\n",
              " '/content/drive/MyDrive/archive/AfganHound/AfganHound .45.jpg',\n",
              " '/content/drive/MyDrive/archive/AfganHound/AfganHound .34.jpg',\n",
              " '/content/drive/MyDrive/archive/AfganHound/AfganHound .35.jpg',\n",
              " '/content/drive/MyDrive/archive/AfganHound/AfganHound .33.jpg',\n",
              " '/content/drive/MyDrive/archive/AfganHound/AfganHound .39.jpg',\n",
              " '/content/drive/MyDrive/archive/AfganHound/AfganHound .17.jpg',\n",
              " '/content/drive/MyDrive/archive/AfganHound/AfganHound .14.jpg',\n",
              " '/content/drive/MyDrive/archive/AfganHound/AfganHound .11.jpg',\n",
              " '/content/drive/MyDrive/archive/AfganHound/AfganHound .22.jpg',\n",
              " '/content/drive/MyDrive/archive/AfganHound/AfganHound .8.jpg',\n",
              " '/content/drive/MyDrive/archive/AfganHound/AfganHound .23.jpg',\n",
              " '/content/drive/MyDrive/archive/AfganHound/AfganHound .28.jpg',\n",
              " '/content/drive/MyDrive/archive/AfganHound/AfganHound .24.jpg',\n",
              " '/content/drive/MyDrive/archive/AfganHound/AfganHound .46.jpg',\n",
              " '/content/drive/MyDrive/archive/AfganHound/AfganHound .38.jpg',\n",
              " '/content/drive/MyDrive/archive/AfganHound/AfganHound .18.jpg',\n",
              " '/content/drive/MyDrive/archive/AfganHound/AfganHound .42.jpg',\n",
              " '/content/drive/MyDrive/archive/AfganHound/AfganHound .44.jpg',\n",
              " '/content/drive/MyDrive/archive/AfganHound/AfganHound .9.jpg',\n",
              " '/content/drive/MyDrive/archive/AfganHound/AfganHound .7.jpg',\n",
              " '/content/drive/MyDrive/archive/AfganHound/AfganHound .31.jpg',\n",
              " '/content/drive/MyDrive/archive/AfganHound/AfganHound .4.jpg',\n",
              " '/content/drive/MyDrive/archive/AfganHound/AfganHound .32.jpg',\n",
              " '/content/drive/MyDrive/archive/AfganHound/AfganHound .50.jpg',\n",
              " '/content/drive/MyDrive/archive/AfganHound/AfganHound .15.jpg',\n",
              " '/content/drive/MyDrive/archive/AfganHound/AfganHound .47.jpg',\n",
              " '/content/drive/MyDrive/archive/AfganHound/AfganHound .29.jpg',\n",
              " '/content/drive/MyDrive/archive/AfganHound/AfganHound .20.jpg',\n",
              " '/content/drive/MyDrive/archive/AfganHound/AfganHound .10.jpg',\n",
              " '/content/drive/MyDrive/archive/AfganHound/AfganHound .21.jpg',\n",
              " '/content/drive/MyDrive/archive/AfganHound/AfganHound .43.jpg',\n",
              " '/content/drive/MyDrive/archive/AfganHound/AfganHound .13.jpg',\n",
              " '/content/drive/MyDrive/archive/AfganHound/AfganHound .1.jpg',\n",
              " '/content/drive/MyDrive/archive/AfganHound/AfganHound .12.jpg',\n",
              " '/content/drive/MyDrive/archive/AfganHound/AfganHound .40.jpg',\n",
              " '/content/drive/MyDrive/archive/AfganHound/AfganHound .37.jpg',\n",
              " '/content/drive/MyDrive/archive/AfganHound/AfganHound .27.jpg',\n",
              " '/content/drive/MyDrive/archive/AfganHound/AfganHound .25.jpg',\n",
              " '/content/drive/MyDrive/archive/AfganHound/AfganHound .26.jpg',\n",
              " '/content/drive/MyDrive/archive/AfganHound/AfganHound .36.jpg',\n",
              " '/content/drive/MyDrive/archive/AfganHound/AfganHound .3.jpg',\n",
              " '/content/drive/MyDrive/archive/AfganHound/AfganHound .5.jpg',\n",
              " '/content/drive/MyDrive/archive/AfganHound/AfganHound .30.jpg',\n",
              " '/content/drive/MyDrive/archive/AfganHound/AfganHound .49.jpg',\n",
              " '/content/drive/MyDrive/archive/Affenhuahua/Affenhuahua .1.jpg',\n",
              " '/content/drive/MyDrive/archive/Affenhuahua/Affenhuahua .37.jpg',\n",
              " '/content/drive/MyDrive/archive/Affenhuahua/Affenhuahua .33.jpg',\n",
              " '/content/drive/MyDrive/archive/Affenhuahua/Affenhuahua .32.jpg',\n",
              " '/content/drive/MyDrive/archive/Affenhuahua/Affenhuahua .20.jpg',\n",
              " '/content/drive/MyDrive/archive/Affenhuahua/Affenhuahua .13.jpg',\n",
              " '/content/drive/MyDrive/archive/Affenhuahua/Affenhuahua .25.jpg',\n",
              " '/content/drive/MyDrive/archive/Affenhuahua/Affenhuahua .26.jpg',\n",
              " '/content/drive/MyDrive/archive/Affenhuahua/Affenhuahua .39.jpg',\n",
              " '/content/drive/MyDrive/archive/Affenhuahua/Affenhuahua .14.jpg',\n",
              " '/content/drive/MyDrive/archive/Affenhuahua/Affenhuahua .27.jpg',\n",
              " '/content/drive/MyDrive/archive/Affenhuahua/Affenhuahua .38.jpg',\n",
              " '/content/drive/MyDrive/archive/Affenhuahua/Affenhuahua .29.jpg',\n",
              " '/content/drive/MyDrive/archive/Affenhuahua/Affenhuahua .36.jpg',\n",
              " '/content/drive/MyDrive/archive/Affenhuahua/Affenhuahua .16.jpg',\n",
              " '/content/drive/MyDrive/archive/Affenhuahua/Affenhuahua .40.jpg',\n",
              " '/content/drive/MyDrive/archive/Affenhuahua/Affenhuahua .12.jpg',\n",
              " '/content/drive/MyDrive/archive/Affenhuahua/Affenhuahua .30.jpg',\n",
              " '/content/drive/MyDrive/archive/Affenhuahua/Affenhuahua .18.jpg',\n",
              " '/content/drive/MyDrive/archive/Affenhuahua/Affenhuahua .9.jpg',\n",
              " '/content/drive/MyDrive/archive/Affenhuahua/Affenhuahua .23.jpg',\n",
              " '/content/drive/MyDrive/archive/Affenhuahua/Affenhuahua .15.jpg',\n",
              " '/content/drive/MyDrive/archive/Affenhuahua/Affenhuahua .10.jpg',\n",
              " '/content/drive/MyDrive/archive/Affenhuahua/Affenhuahua .3.jpg',\n",
              " '/content/drive/MyDrive/archive/Affenhuahua/Affenhuahua .11.jpg',\n",
              " '/content/drive/MyDrive/archive/Affenhuahua/Affenhuahua .24.jpg',\n",
              " '/content/drive/MyDrive/archive/Affenhuahua/Affenhuahua .2.jpg',\n",
              " '/content/drive/MyDrive/archive/Affenhuahua/Affenhuahua .17.jpg',\n",
              " '/content/drive/MyDrive/archive/Affenhuahua/Affenhuahua .22.jpg',\n",
              " '/content/drive/MyDrive/archive/Affenhuahua/Affenhuahua .28.jpg',\n",
              " '/content/drive/MyDrive/archive/Affenhuahua/Affenhuahua .31.jpg',\n",
              " '/content/drive/MyDrive/archive/Affenhuahua/Affenhuahua .21.jpg',\n",
              " '/content/drive/MyDrive/archive/Affenhuahua/Affenhuahua .34.jpg',\n",
              " '/content/drive/MyDrive/archive/Affenhuahua/Affenhuahua .35.jpg',\n",
              " '/content/drive/MyDrive/archive/Affenhuahua/Affenhuahua .19.jpg',\n",
              " '/content/drive/MyDrive/archive/Affenhuahua/Affenhuahua .43.jpg',\n",
              " '/content/drive/MyDrive/archive/Affenhuahua/Affenhuahua .5.jpg',\n",
              " '/content/drive/MyDrive/archive/Affenhuahua/Affenhuahua .41.jpg',\n",
              " '/content/drive/MyDrive/archive/Affenhuahua/Affenhuahua .8.jpg',\n",
              " '/content/drive/MyDrive/archive/Affenhuahua/Affenhuahua .7.jpg',\n",
              " '/content/drive/MyDrive/archive/Affenhuahua/Affenhuahua .42.jpg',\n",
              " '/content/drive/MyDrive/archive/Affenhuahua/Affenhuahua .45.jpg',\n",
              " '/content/drive/MyDrive/archive/Affenhuahua/Affenhuahua .4.jpg',\n",
              " '/content/drive/MyDrive/archive/Affenhuahua/Affenhuahua .6.jpg',\n",
              " '/content/drive/MyDrive/archive/Affenhuahua/Affenhuahua .44.jpg',\n",
              " '/content/drive/MyDrive/archive/Akita/Akita .8.jpg',\n",
              " '/content/drive/MyDrive/archive/Akita/Akita .49.jpg',\n",
              " '/content/drive/MyDrive/archive/Akita/Akita .32.jpg',\n",
              " '/content/drive/MyDrive/archive/Akita/Akita .2.jpg',\n",
              " '/content/drive/MyDrive/archive/Akita/Akita .45.jpg',\n",
              " '/content/drive/MyDrive/archive/Akita/Akita .17.jpg',\n",
              " '/content/drive/MyDrive/archive/Akita/Akita .47.jpg',\n",
              " '/content/drive/MyDrive/archive/Akita/Akita .26.jpg',\n",
              " '/content/drive/MyDrive/archive/Akita/Akita .18.jpg',\n",
              " '/content/drive/MyDrive/archive/Akita/Akita .41.jpg',\n",
              " '/content/drive/MyDrive/archive/Akita/Akita .37.jpg',\n",
              " '/content/drive/MyDrive/archive/Akita/Akita .5.jpg',\n",
              " '/content/drive/MyDrive/archive/Akita/Akita .20.jpg',\n",
              " '/content/drive/MyDrive/archive/Akita/Akita .19.jpg',\n",
              " '/content/drive/MyDrive/archive/Akita/Akita .46.jpg',\n",
              " '/content/drive/MyDrive/archive/Akita/Akita .40.jpg',\n",
              " '/content/drive/MyDrive/archive/Akita/Akita .21.jpg',\n",
              " '/content/drive/MyDrive/archive/Akita/Akita .15.jpg',\n",
              " '/content/drive/MyDrive/archive/Akita/Akita .10.jpg',\n",
              " '/content/drive/MyDrive/archive/Akita/Akita .39.jpg',\n",
              " '/content/drive/MyDrive/archive/Akita/Akita .33.jpg',\n",
              " '/content/drive/MyDrive/archive/Akita/Akita .31.jpg',\n",
              " '/content/drive/MyDrive/archive/Akita/Akita .35.jpg',\n",
              " '/content/drive/MyDrive/archive/Akita/Akita .38.jpg',\n",
              " '/content/drive/MyDrive/archive/Akita/Akita .16.jpg',\n",
              " '/content/drive/MyDrive/archive/Akita/Akita .29.jpg',\n",
              " '/content/drive/MyDrive/archive/Akita/Akita .22.jpg',\n",
              " '/content/drive/MyDrive/archive/Akita/Akita .12.jpg',\n",
              " '/content/drive/MyDrive/archive/Akita/Akita .11.jpg',\n",
              " '/content/drive/MyDrive/archive/Akita/Akita .4.jpg',\n",
              " '/content/drive/MyDrive/archive/Akita/Akita .6.jpg',\n",
              " '/content/drive/MyDrive/archive/Akita/Akita .48.jpg',\n",
              " '/content/drive/MyDrive/archive/Akita/Akita .14.jpg',\n",
              " '/content/drive/MyDrive/archive/Akita/Akita .27.jpg',\n",
              " '/content/drive/MyDrive/archive/Akita/Akita .34.jpg',\n",
              " '/content/drive/MyDrive/archive/Akita/Akita .13.jpg',\n",
              " '/content/drive/MyDrive/archive/Akita/Akita .30.jpg',\n",
              " '/content/drive/MyDrive/archive/Akita/Akita .9.jpg',\n",
              " '/content/drive/MyDrive/archive/Akita/Akita .25.jpg',\n",
              " '/content/drive/MyDrive/archive/Akita/Akita .3.jpg',\n",
              " '/content/drive/MyDrive/archive/Akita/Akita .28.jpg',\n",
              " '/content/drive/MyDrive/archive/Akita/Akita .43.jpg',\n",
              " '/content/drive/MyDrive/archive/Akita/Akita .23.jpg',\n",
              " '/content/drive/MyDrive/archive/Akita/Akita .36.jpg',\n",
              " '/content/drive/MyDrive/archive/Akita/Akita .24.jpg',\n",
              " '/content/drive/MyDrive/archive/Akita/Akita .1.jpg',\n",
              " '/content/drive/MyDrive/archive/Akita/Akita .44.jpg',\n",
              " '/content/drive/MyDrive/archive/Akita/Akita .42.jpg',\n",
              " '/content/drive/MyDrive/archive/Akita/Akita .7.jpg',\n",
              " '/content/drive/MyDrive/archive/AlaskanMalamute/AlaskanMalamute .1.jpg',\n",
              " '/content/drive/MyDrive/archive/AlaskanMalamute/AlaskanMalamute .11.jpg',\n",
              " '/content/drive/MyDrive/archive/AlaskanMalamute/AlaskanMalamute .39.jpg',\n",
              " '/content/drive/MyDrive/archive/AlaskanMalamute/AlaskanMalamute .4.jpg',\n",
              " '/content/drive/MyDrive/archive/AlaskanMalamute/AlaskanMalamute .22.jpg',\n",
              " '/content/drive/MyDrive/archive/AlaskanMalamute/AlaskanMalamute .17.jpg',\n",
              " '/content/drive/MyDrive/archive/AlaskanMalamute/AlaskanMalamute .37.jpg',\n",
              " '/content/drive/MyDrive/archive/AlaskanMalamute/AlaskanMalamute .15.jpg',\n",
              " '/content/drive/MyDrive/archive/AlaskanMalamute/AlaskanMalamute .27.jpg',\n",
              " '/content/drive/MyDrive/archive/AlaskanMalamute/AlaskanMalamute .3.jpg',\n",
              " '/content/drive/MyDrive/archive/AlaskanMalamute/AlaskanMalamute .24.jpg',\n",
              " '/content/drive/MyDrive/archive/AlaskanMalamute/AlaskanMalamute .13.jpg',\n",
              " '/content/drive/MyDrive/archive/AlaskanMalamute/AlaskanMalamute .26.jpg',\n",
              " '/content/drive/MyDrive/archive/AlaskanMalamute/AlaskanMalamute .29.jpg',\n",
              " '/content/drive/MyDrive/archive/AlaskanMalamute/AlaskanMalamute .2.jpg',\n",
              " '/content/drive/MyDrive/archive/AlaskanMalamute/AlaskanMalamute .21.jpg',\n",
              " '/content/drive/MyDrive/archive/AlaskanMalamute/AlaskanMalamute .23.jpg',\n",
              " '/content/drive/MyDrive/archive/AlaskanMalamute/AlaskanMalamute .14.jpg',\n",
              " '/content/drive/MyDrive/archive/AlaskanMalamute/AlaskanMalamute .38.jpg',\n",
              " '/content/drive/MyDrive/archive/AlaskanMalamute/AlaskanMalamute .28.jpg',\n",
              " '/content/drive/MyDrive/archive/AlaskanMalamute/AlaskanMalamute .35.jpg',\n",
              " '/content/drive/MyDrive/archive/AlaskanMalamute/AlaskanMalamute .18.jpg',\n",
              " '/content/drive/MyDrive/archive/AlaskanMalamute/AlaskanMalamute .32.jpg',\n",
              " '/content/drive/MyDrive/archive/AlaskanMalamute/AlaskanMalamute .19.jpg',\n",
              " '/content/drive/MyDrive/archive/AlaskanMalamute/AlaskanMalamute .25.jpg',\n",
              " '/content/drive/MyDrive/archive/AlaskanMalamute/AlaskanMalamute .40.jpg',\n",
              " '/content/drive/MyDrive/archive/AlaskanMalamute/AlaskanMalamute .33.jpg',\n",
              " '/content/drive/MyDrive/archive/AlaskanMalamute/AlaskanMalamute .41.jpg',\n",
              " '/content/drive/MyDrive/archive/AlaskanMalamute/AlaskanMalamute .30.jpg',\n",
              " '/content/drive/MyDrive/archive/AlaskanMalamute/AlaskanMalamute .12.jpg',\n",
              " '/content/drive/MyDrive/archive/AlaskanMalamute/AlaskanMalamute .34.jpg',\n",
              " '/content/drive/MyDrive/archive/AlaskanMalamute/AlaskanMalamute .20.jpg',\n",
              " '/content/drive/MyDrive/archive/AlaskanMalamute/AlaskanMalamute .16.jpg',\n",
              " '/content/drive/MyDrive/archive/AlaskanMalamute/AlaskanMalamute .10.jpg',\n",
              " '/content/drive/MyDrive/archive/AlaskanMalamute/AlaskanMalamute .36.jpg',\n",
              " '/content/drive/MyDrive/archive/AlaskanMalamute/AlaskanMalamute .31.jpg',\n",
              " '/content/drive/MyDrive/archive/AlaskanMalamute/AlaskanMalamute .8.jpg',\n",
              " '/content/drive/MyDrive/archive/AlaskanMalamute/AlaskanMalamute .48.jpg',\n",
              " '/content/drive/MyDrive/archive/AlaskanMalamute/AlaskanMalamute .7.jpg',\n",
              " '/content/drive/MyDrive/archive/AlaskanMalamute/AlaskanMalamute .5.jpg',\n",
              " '/content/drive/MyDrive/archive/AlaskanMalamute/AlaskanMalamute .46.jpg',\n",
              " '/content/drive/MyDrive/archive/AlaskanMalamute/AlaskanMalamute .42.jpg',\n",
              " '/content/drive/MyDrive/archive/AlaskanMalamute/AlaskanMalamute .50.jpg',\n",
              " '/content/drive/MyDrive/archive/AlaskanMalamute/AlaskanMalamute .6.jpg',\n",
              " '/content/drive/MyDrive/archive/AlaskanMalamute/AlaskanMalamute .49.jpg',\n",
              " '/content/drive/MyDrive/archive/AlaskanMalamute/AlaskanMalamute .9.jpg',\n",
              " '/content/drive/MyDrive/archive/AlaskanMalamute/AlaskanMalamute .45.jpg',\n",
              " '/content/drive/MyDrive/archive/AlaskanMalamute/AlaskanMalamute .43.jpg',\n",
              " '/content/drive/MyDrive/archive/AlaskanMalamute/AlaskanMalamute .47.jpg',\n",
              " '/content/drive/MyDrive/archive/AlaskanMalamute/AlaskanMalamute .44.jpg']"
            ]
          },
          "metadata": {},
          "execution_count": 13
        }
      ]
    },
    {
      "cell_type": "code",
      "source": [
        "\n",
        "# loop over the input images\n",
        "for (i, image_path) in enumerate(image_paths):\n",
        "    image = cv2.imread(image_path)\n",
        "    label = image_path.split(os.path.sep)[-1].split(\".\")[0]\n",
        "    # extract raw pixel intensity \"features\n",
        "    pixels = createImageFeatures(image)\n",
        "    raw_images.append(pixels)\n",
        "    labels.append(label)"
      ],
      "metadata": {
        "id": "uEqHaJvamG4n"
      },
      "execution_count": null,
      "outputs": []
    },
    {
      "cell_type": "code",
      "execution_count": null,
      "metadata": {
        "id": "fxJiMv8lKqTi"
      },
      "outputs": [],
      "source": [
        "raw_images = np.array(raw_images)\n",
        "labels = np.array(labels)"
      ]
    },
    {
      "cell_type": "code",
      "source": [
        "from google.colab import drive\n",
        "drive.mount('/content/drive')"
      ],
      "metadata": {
        "colab": {
          "base_uri": "https://localhost:8080/"
        },
        "id": "XgTleLQwNsO6",
        "outputId": "91134467-872c-4594-aabc-fc4f93a94a95"
      },
      "execution_count": null,
      "outputs": [
        {
          "output_type": "stream",
          "name": "stdout",
          "text": [
            "Drive already mounted at /content/drive; to attempt to forcibly remount, call drive.mount(\"/content/drive\", force_remount=True).\n"
          ]
        }
      ]
    },
    {
      "cell_type": "code",
      "execution_count": null,
      "metadata": {
        "id": "6Kd9MKmNgl-M"
      },
      "outputs": [],
      "source": [
        "raw_images= raw_images/255"
      ]
    },
    {
      "cell_type": "code",
      "source": [
        "raw_images"
      ],
      "metadata": {
        "colab": {
          "base_uri": "https://localhost:8080/"
        },
        "id": "WNaP2zqdNiPs",
        "outputId": "315d3000-2637-4918-86d0-768e25c6c658"
      },
      "execution_count": null,
      "outputs": [
        {
          "output_type": "execute_result",
          "data": {
            "text/plain": [
              "array([[0.00784314, 0.        , 0.        , ..., 0.        , 0.        ,\n",
              "        0.        ],\n",
              "       [0.        , 0.00784314, 0.06666667, ..., 0.48627451, 0.5254902 ,\n",
              "        0.55294118],\n",
              "       [0.34509804, 0.36078431, 0.30196078, ..., 0.7372549 , 0.75686275,\n",
              "        0.75294118],\n",
              "       ...,\n",
              "       [0.10980392, 0.21176471, 0.2745098 , ..., 0.4       , 0.48235294,\n",
              "        0.5372549 ],\n",
              "       [0.86666667, 0.85882353, 0.78823529, ..., 0.34901961, 0.3372549 ,\n",
              "        0.28235294],\n",
              "       [0.24313725, 0.60784314, 0.43137255, ..., 0.49411765, 0.63137255,\n",
              "        0.64705882]])"
            ]
          },
          "metadata": {},
          "execution_count": 19
        }
      ]
    },
    {
      "cell_type": "code",
      "source": [
        "x_label = []\n",
        "test_size_matrix = [0.1,0.15,0.20,0.25,0.30]\n",
        "result = []\n",
        "for j in test_size_matrix:\n",
        "  (train_X, test_X, train_y, test_y) = train_test_split(raw_images, labels, test_size=j, random_state=0)\n",
        "\n",
        "  model =DecisionTreeClassifier()\n",
        "  model.fit(train_X, train_y)\n",
        "  acc = model.score(test_X, test_y)\n",
        "  result.append(acc)\n",
        "  x_label.append(i)\n",
        "plt.plot(test_size_matrix,result,color = 'red')"
      ],
      "metadata": {
        "colab": {
          "base_uri": "https://localhost:8080/",
          "height": 282
        },
        "id": "a83YBNB3mXsm",
        "outputId": "1f23203e-5110-485f-d936-054ab505ea95"
      },
      "execution_count": null,
      "outputs": [
        {
          "output_type": "execute_result",
          "data": {
            "text/plain": [
              "[<matplotlib.lines.Line2D at 0x7f15591f3e90>]"
            ]
          },
          "metadata": {},
          "execution_count": 20
        },
        {
          "output_type": "display_data",
          "data": {
            "text/plain": [
              "<Figure size 432x288 with 1 Axes>"
            ],
            "image/png": "[encoded data removed]"
          },
          "metadata": {
            "needs_background": "light"
          }
        }
      ]
    },
    {
      "cell_type": "code",
      "source": [
        "result"
      ],
      "metadata": {
        "colab": {
          "base_uri": "https://localhost:8080/"
        },
        "id": "HvGm0vChqAz9",
        "outputId": "11a2102c-e7d1-4581-9f94-af85bf8e8d56"
      },
      "execution_count": null,
      "outputs": [
        {
          "output_type": "execute_result",
          "data": {
            "text/plain": [
              "[0.782608695652174,\n",
              " 0.6699029126213593,\n",
              " 0.708029197080292,\n",
              " 0.6842105263157895,\n",
              " 0.7073170731707317]"
            ]
          },
          "metadata": {},
          "execution_count": 21
        }
      ]
    },
    {
      "cell_type": "code",
      "source": [
        "test_size_final = test_size_matrix[ result.index(max(result))]"
      ],
      "metadata": {
        "id": "Ot_upHBQqBY_"
      },
      "execution_count": null,
      "outputs": []
    },
    {
      "cell_type": "code",
      "source": [
        "test_size_final"
      ],
      "metadata": {
        "colab": {
          "base_uri": "https://localhost:8080/"
        },
        "id": "6Iu9iKugq0tP",
        "outputId": "34b06b14-66a8-4970-f140-22acd7d13bb6"
      },
      "execution_count": null,
      "outputs": [
        {
          "output_type": "execute_result",
          "data": {
            "text/plain": [
              "0.1"
            ]
          },
          "metadata": {},
          "execution_count": 23
        }
      ]
    },
    {
      "cell_type": "code",
      "source": [
        "(train_X, test_X, train_y, test_y) = train_test_split(raw_images, labels, test_size=test_size_final, random_state=0)\n",
        "model =DecisionTreeClassifier()\n",
        "model.fit(train_X, train_y)\n",
        "acc = model.score(test_X, test_y)"
      ],
      "metadata": {
        "id": "T-2KP7i5q12O"
      },
      "execution_count": null,
      "outputs": []
    },
    {
      "cell_type": "code",
      "source": [
        "acc"
      ],
      "metadata": {
        "colab": {
          "base_uri": "https://localhost:8080/"
        },
        "id": "IwNLxzEUrFne",
        "outputId": "923737a6-45b0-4b8c-a8d5-0c8a7138e964"
      },
      "execution_count": null,
      "outputs": [
        {
          "output_type": "execute_result",
          "data": {
            "text/plain": [
              "0.782608695652174"
            ]
          },
          "metadata": {},
          "execution_count": 25
        }
      ]
    },
    {
      "cell_type": "code",
      "source": [
        "image = cv2.imread('/content/drive/MyDrive/archive/Affenhuahua/Affenhuahua .1.jpg')\n",
        "image = cv2.resize(image, (224,224))\n",
        "# flatten the image\n",
        "pixel_list = image.flatten()"
      ],
      "metadata": {
        "id": "w9djmIGrRUy5"
      },
      "execution_count": null,
      "outputs": []
    },
    {
      "cell_type": "code",
      "source": [
        "pixel_list"
      ],
      "metadata": {
        "colab": {
          "base_uri": "https://localhost:8080/"
        },
        "id": "2a_c3mdn0tGk",
        "outputId": "3894eb48-421a-407e-ad58-3fdd2749ad08"
      },
      "execution_count": null,
      "outputs": [
        {
          "output_type": "execute_result",
          "data": {
            "text/plain": [
              "array([57, 63, 70, ..., 94, 88, 81], dtype=uint8)"
            ]
          },
          "metadata": {},
          "execution_count": 31
        }
      ]
    },
    {
      "cell_type": "code",
      "source": [
        "pixel_list = np.array(pixel_list)"
      ],
      "metadata": {
        "id": "ROTxdsYu0vf9"
      },
      "execution_count": null,
      "outputs": []
    },
    {
      "cell_type": "code",
      "source": [
        "pixel_list.shape"
      ],
      "metadata": {
        "colab": {
          "base_uri": "https://localhost:8080/"
        },
        "id": "7Ib6yCG_04iN",
        "outputId": "dede5bf6-028a-46e9-eb12-3bc878eb6c9a"
      },
      "execution_count": null,
      "outputs": [
        {
          "output_type": "execute_result",
          "data": {
            "text/plain": [
              "(150528,)"
            ]
          },
          "metadata": {},
          "execution_count": 29
        }
      ]
    },
    {
      "cell_type": "code",
      "source": [
        "pixel_list = pixel_list/ 255"
      ],
      "metadata": {
        "id": "6TG1knSV057N"
      },
      "execution_count": null,
      "outputs": []
    },
    {
      "cell_type": "code",
      "source": [
        "pixel_list"
      ],
      "metadata": {
        "colab": {
          "base_uri": "https://localhost:8080/"
        },
        "id": "tk536VF71A1z",
        "outputId": "0b2fa928-cee6-48b1-dea9-c4e3804967b0"
      },
      "execution_count": null,
      "outputs": [
        {
          "output_type": "execute_result",
          "data": {
            "text/plain": [
              "array([0.22352941, 0.24705882, 0.2745098 , ..., 0.36862745, 0.34509804,\n",
              "       0.31764706])"
            ]
          },
          "metadata": {},
          "execution_count": 34
        }
      ]
    },
    {
      "cell_type": "code",
      "source": [],
      "metadata": {
        "colab": {
          "base_uri": "https://localhost:8080/"
        },
        "id": "FtU4hwh_1O7O",
        "outputId": "35b92001-f7cc-4a70-c110-920bc2597db0"
      },
      "execution_count": null,
      "outputs": [
        {
          "output_type": "execute_result",
          "data": {
            "text/plain": [
              "(150528,)"
            ]
          },
          "metadata": {},
          "execution_count": 35
        }
      ]
    },
    {
      "cell_type": "code",
      "source": [
        "pixel_list = pixel_list.reshape(1,-1)"
      ],
      "metadata": {
        "id": "uGAsVc9X1YUJ"
      },
      "execution_count": null,
      "outputs": []
    },
    {
      "cell_type": "code",
      "source": [
        "pixel_list.shape"
      ],
      "metadata": {
        "colab": {
          "base_uri": "https://localhost:8080/"
        },
        "id": "chdb_ElX1eYh",
        "outputId": "9ba9311a-7181-4166-f6b8-0e7b4408ecbd"
      },
      "execution_count": null,
      "outputs": [
        {
          "output_type": "execute_result",
          "data": {
            "text/plain": [
              "(1, 150528)"
            ]
          },
          "metadata": {},
          "execution_count": 45
        }
      ]
    },
    {
      "cell_type": "code",
      "source": [
        "y_pred = model.predict(pixel_list)"
      ],
      "metadata": {
        "id": "pVQWwPnI1Qs5"
      },
      "execution_count": null,
      "outputs": []
    },
    {
      "cell_type": "code",
      "source": [],
      "metadata": {
        "id": "H1X9624A2C4Z"
      },
      "execution_count": null,
      "outputs": []
    },
    {
      "cell_type": "code",
      "source": [
        "print(y_pred)"
      ],
      "metadata": {
        "colab": {
          "base_uri": "https://localhost:8080/"
        },
        "id": "26A2xKHT1WVf",
        "outputId": "7b8700d4-b351-42ef-ebdf-0839c2b7853d"
      },
      "execution_count": null,
      "outputs": [
        {
          "output_type": "stream",
          "name": "stdout",
          "text": [
            "['Affenhuahua ']\n"
          ]
        }
      ]
    },
    {
      "cell_type": "code",
      "source": [],
      "metadata": {
        "id": "zGrKoiTa1qsY"
      },
      "execution_count": null,
      "outputs": []
    }
  ],
  "metadata": {
    "colab": {
      "collapsed_sections": [],
      "name": "Bản sao của DemoFinal.ipynb",
      "provenance": [],
      "include_colab_link": true
    },
    "kernelspec": {
      "display_name": "Python 3",
      "name": "python3"
    },
    "language_info": {
      "name": "python"
    },
    "accelerator": "GPU"
  },
  "nbformat": 4,
  "nbformat_minor": 0
}